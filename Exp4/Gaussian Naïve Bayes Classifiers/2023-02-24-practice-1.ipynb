{
 "cells": [
  {
   "cell_type": "code",
   "execution_count": 1,
   "metadata": {},
   "outputs": [],
   "source": [
    "import numpy as np\n",
    "from sklearn.datasets import load_iris\n",
    "from sklearn.model_selection import train_test_split\n",
    "import math"
   ]
  },
  {
   "cell_type": "code",
   "execution_count": 2,
   "metadata": {},
   "outputs": [],
   "source": [
    "def mean(X):\n",
    "    return sum(X) / float(len(X))\n",
    "\n",
    "def stdev(X):\n",
    "    avg = mean(X)\n",
    "    return math.sqrt(sum([pow(x - avg, 2) for x in X]) / float(len(X)))\n",
    "\n",
    "def gaussian_probability(x, mean, stdev):\n",
    "    exponent = math.exp(-(math.pow(x - mean, 2) /\n",
    "                          (2 * math.pow(stdev, 2))))\n",
    "    return (1 / (math.sqrt(2 * math.pi) * stdev)) * exponent"
   ]
  },
  {
   "cell_type": "code",
   "execution_count": 3,
   "metadata": {},
   "outputs": [],
   "source": [
    "iris_data = load_iris()"
   ]
  },
  {
   "cell_type": "code",
   "execution_count": 4,
   "metadata": {},
   "outputs": [
    {
     "data": {
      "text/plain": [
       "array([0, 0, 0, 0, 0, 0, 0, 0, 0, 0, 0, 0, 0, 0, 0, 0, 0, 0, 0, 0, 0, 0,\n",
       "       0, 0, 0, 0, 0, 0, 0, 0, 0, 0, 0, 0, 0, 0, 0, 0, 0, 0, 0, 0, 0, 0,\n",
       "       0, 0, 0, 0, 0, 0, 1, 1, 1, 1, 1, 1, 1, 1, 1, 1, 1, 1, 1, 1, 1, 1,\n",
       "       1, 1, 1, 1, 1, 1, 1, 1, 1, 1, 1, 1, 1, 1, 1, 1, 1, 1, 1, 1, 1, 1,\n",
       "       1, 1, 1, 1, 1, 1, 1, 1, 1, 1, 1, 1, 2, 2, 2, 2, 2, 2, 2, 2, 2, 2,\n",
       "       2, 2, 2, 2, 2, 2, 2, 2, 2, 2, 2, 2, 2, 2, 2, 2, 2, 2, 2, 2, 2, 2,\n",
       "       2, 2, 2, 2, 2, 2, 2, 2, 2, 2, 2, 2, 2, 2, 2, 2, 2, 2])"
      ]
     },
     "execution_count": 4,
     "metadata": {},
     "output_type": "execute_result"
    }
   ],
   "source": [
    "iris_data['target']"
   ]
  },
  {
   "cell_type": "code",
   "execution_count": 5,
   "metadata": {},
   "outputs": [],
   "source": [
    "X = iris_data['data']\n",
    "y = iris_data['target']"
   ]
  },
  {
   "cell_type": "code",
   "execution_count": 6,
   "metadata": {},
   "outputs": [],
   "source": [
    "\n",
    "X_train, X_test, y_train, y_test = train_test_split(X, y, test_size=0.33, random_state=42)\n",
    "\n"
   ]
  },
  {
   "cell_type": "code",
   "execution_count": 7,
   "metadata": {},
   "outputs": [
    {
     "data": {
      "text/plain": [
       "(100, 50, 100, 50)"
      ]
     },
     "execution_count": 7,
     "metadata": {},
     "output_type": "execute_result"
    }
   ],
   "source": [
    "len(X_train), len(X_test), len(y_train), len(y_test)"
   ]
  },
  {
   "cell_type": "code",
   "execution_count": 8,
   "metadata": {},
   "outputs": [],
   "source": [
    "u = mean(X_train[:,0])"
   ]
  },
  {
   "cell_type": "code",
   "execution_count": 9,
   "metadata": {},
   "outputs": [
    {
     "data": {
      "text/plain": [
       "0.8311889075294496"
      ]
     },
     "execution_count": 9,
     "metadata": {},
     "output_type": "execute_result"
    }
   ],
   "source": [
    "np.std(X_train[:,0])"
   ]
  },
  {
   "cell_type": "code",
   "execution_count": null,
   "metadata": {},
   "outputs": [],
   "source": []
  },
  {
   "cell_type": "code",
   "execution_count": 10,
   "metadata": {},
   "outputs": [],
   "source": [
    "std = stdev(X_train[:,0])"
   ]
  },
  {
   "cell_type": "code",
   "execution_count": 11,
   "metadata": {},
   "outputs": [
    {
     "data": {
      "text/plain": [
       "(5.814999999999999, 0.8311889075294497)"
      ]
     },
     "execution_count": 11,
     "metadata": {},
     "output_type": "execute_result"
    }
   ],
   "source": [
    "u,std"
   ]
  },
  {
   "cell_type": "code",
   "execution_count": null,
   "metadata": {},
   "outputs": [],
   "source": []
  },
  {
   "cell_type": "code",
   "execution_count": 14,
   "metadata": {},
   "outputs": [
    {
     "data": {
      "text/plain": [
       "<matplotlib.collections.PathCollection at 0x13a7993d0>"
      ]
     },
     "execution_count": 14,
     "metadata": {},
     "output_type": "execute_result"
    },
    {
     "data": {
      "image/png": "[encoded data removed]",
      "text/plain": [
       "<Figure size 432x288 with 1 Axes>"
      ]
     },
     "metadata": {
      "needs_background": "light"
     },
     "output_type": "display_data"
    }
   ],
   "source": [
    "import matplotlib.pyplot as plt\n",
    "points = np.linspace(u-3*std, u+3*std, 100)\n",
    "gvs = []\n",
    "for p in points:\n",
    "    gvs.append(gaussian_probability(p,u,std))\n",
    "\n",
    "plt.plot(points, gvs)\n",
    "plt.scatter(points[:10],[0]*10)\n"
   ]
  },
  {
   "cell_type": "code",
   "execution_count": 16,
   "metadata": {
    "scrolled": true
   },
   "outputs": [
    {
     "name": "stdout",
     "output_type": "stream",
     "text": [
      "0.4753939050871128\n",
      "0.04783609245454676\n",
      "0.46417469391299604\n",
      "0.3315342802858865\n",
      "0.03667793015732523\n",
      "0.47988768800935744\n",
      "0.36503234398059764\n",
      "0.2967832475306197\n",
      "0.3315342802858865\n",
      "0.2967832475306197\n",
      "0.4048343260440879\n",
      "0.22772085876204923\n",
      "0.2967832475306197\n",
      "0.3315342802858865\n",
      "0.46417469391299604\n",
      "0.3315342802858865\n",
      "0.4753939050871128\n",
      "0.03667793015732523\n",
      "0.16490037286361897\n",
      "0.4311437430213643\n",
      "0.4753939050871128\n",
      "0.44670741203531006\n",
      "0.4682234390811656\n",
      "0.47988768800935744\n",
      "0.4682234390811656\n",
      "0.42371974880793417\n",
      "0.4311437430213643\n",
      "0.44670741203531006\n",
      "0.42371974880793417\n",
      "0.2967832475306197\n",
      "0.3746678426162503\n",
      "0.2967832475306197\n",
      "0.2967832475306197\n",
      "0.44670741203531006\n",
      "0.27229319145889175\n",
      "0.26185699125715034\n",
      "0.47988768800935744\n",
      "0.2967832475306197\n",
      "0.2967832475306197\n",
      "0.47746270576803906\n",
      "0.3315342802858865\n",
      "0.2047385392709172\n",
      "0.4682234390811656\n",
      "0.4525647196023136\n",
      "0.03667793015732523\n",
      "0.44670741203531006\n",
      "0.112692718861953\n",
      "0.09115987889724247\n",
      "0.4682234390811656\n",
      "0.11975611334673432\n",
      "0.16490037286361897\n",
      "0.3315342802858865\n",
      "0.112692718861953\n",
      "0.4048343260440879\n",
      "0.4048343260440879\n",
      "0.16490037286361897\n",
      "0.2378270598916602\n",
      "0.4048343260440879\n",
      "0.1951889828686219\n",
      "0.4525647196023136\n",
      "0.3417663958298504\n",
      "0.4311437430213643\n",
      "0.17372078474963223\n",
      "0.3746678426162503\n",
      "0.3315342802858865\n",
      "0.2047385392709172\n",
      "0.47746270576803906\n",
      "0.3417663958298504\n",
      "0.4753939050871128\n",
      "0.36503234398059764\n",
      "0.4525647196023136\n",
      "0.1373098911846645\n",
      "0.3072742349316631\n",
      "0.44670741203531006\n",
      "0.39613945735870826\n",
      "0.46417469391299604\n",
      "0.09729520123914183\n",
      "0.27229319145889175\n",
      "0.3315342802858865\n",
      "0.26185699125715034\n",
      "0.27229319145889175\n",
      "0.11975611334673432\n",
      "0.26185699125715034\n",
      "0.27229319145889175\n",
      "0.26185699125715034\n",
      "0.2047385392709172\n",
      "0.07791103923636446\n",
      "0.4048343260440879\n",
      "0.4753939050871128\n",
      "0.3417663958298504\n",
      "0.4048343260440879\n",
      "0.3746678426162503\n",
      "0.46417469391299604\n",
      "0.47746270576803906\n",
      "0.42371974880793417\n",
      "0.4525647196023136\n",
      "0.26185699125715034\n",
      "0.47988768800935744\n",
      "0.47988768800935744\n",
      "0.14528400830020605\n"
     ]
    }
   ],
   "source": [
    "gvalue = []\n",
    "for fvalue in X_train[:,0]:\n",
    "    print(gaussian_probability(fvalue, u, std))\n",
    "    gvalue.append(gaussian_probability(fvalue, u, std))"
   ]
  },
  {
   "cell_type": "code",
   "execution_count": null,
   "metadata": {},
   "outputs": [],
   "source": []
  },
  {
   "cell_type": "code",
   "execution_count": 17,
   "metadata": {},
   "outputs": [
    {
     "data": {
      "text/plain": [
       "{0, 1, 2}"
      ]
     },
     "execution_count": 17,
     "metadata": {},
     "output_type": "execute_result"
    }
   ],
   "source": [
    "n_category = set(y_train)\n",
    "n_category"
   ]
  },
  {
   "cell_type": "code",
   "execution_count": 18,
   "metadata": {},
   "outputs": [
    {
     "name": "stdout",
     "output_type": "stream",
     "text": [
      "0\n",
      "1\n",
      "2\n"
     ]
    }
   ],
   "source": [
    "data_by_label = {}\n",
    "for cate in n_category:\n",
    "    print(cate)\n",
    "    data_by_label[cate] = []"
   ]
  },
  {
   "cell_type": "code",
   "execution_count": 20,
   "metadata": {},
   "outputs": [],
   "source": [
    "for data,target in zip(X_train,y_train):\n",
    "    #print(data, target)\n",
    "    data_by_label[target].append(data)"
   ]
  },
  {
   "cell_type": "code",
   "execution_count": 21,
   "metadata": {},
   "outputs": [
    {
     "data": {
      "text/plain": [
       "0.31"
      ]
     },
     "execution_count": 21,
     "metadata": {},
     "output_type": "execute_result"
    }
   ],
   "source": [
    "prior0 = len(data_by_label[0])/len(X_train)\n",
    "prior0"
   ]
  },
  {
   "cell_type": "code",
   "execution_count": 22,
   "metadata": {},
   "outputs": [
    {
     "data": {
      "text/plain": [
       "0.35"
      ]
     },
     "execution_count": 22,
     "metadata": {},
     "output_type": "execute_result"
    }
   ],
   "source": [
    "prior1 = len(data_by_label[1])/len(X_train)\n",
    "prior1"
   ]
  },
  {
   "cell_type": "code",
   "execution_count": 23,
   "metadata": {},
   "outputs": [
    {
     "data": {
      "text/plain": [
       "0.34"
      ]
     },
     "execution_count": 23,
     "metadata": {},
     "output_type": "execute_result"
    }
   ],
   "source": [
    "prior2 = len(data_by_label[2])/len(X_train)\n",
    "prior2"
   ]
  },
  {
   "cell_type": "code",
   "execution_count": 24,
   "metadata": {},
   "outputs": [
    {
     "data": {
      "text/plain": [
       "4"
      ]
     },
     "execution_count": 24,
     "metadata": {},
     "output_type": "execute_result"
    }
   ],
   "source": [
    "n_feature = len(X_train[0])\n",
    "n_feature"
   ]
  },
  {
   "cell_type": "code",
   "execution_count": null,
   "metadata": {},
   "outputs": [],
   "source": [
    "# for each class\n",
    "# for each attributes\n",
    "    #calculate mean and std"
   ]
  },
  {
   "cell_type": "code",
   "execution_count": 69,
   "metadata": {},
   "outputs": [],
   "source": [
    "model = {}\n",
    "\n",
    "for cate in set(y_train):\n",
    "    \n",
    "    d = np.array(data_by_label[cate])\n",
    "    \n",
    "    mu_std = []\n",
    "    for i in range(n_feature):\n",
    "        mu = mean(d[:,i])\n",
    "        std = stdev(d[:,i])\n",
    "        mu_std.append((mu,std))\n",
    "    #print(mu_std)\n",
    "    model[cate] = mu_std\n",
    "        "
   ]
  },
  {
   "cell_type": "code",
   "execution_count": 72,
   "metadata": {},
   "outputs": [
    {
     "data": {
      "text/plain": [
       "(4.964516129032259, 0.3346142575455468)"
      ]
     },
     "execution_count": 72,
     "metadata": {},
     "output_type": "execute_result"
    }
   ],
   "source": [
    "model[0][0]"
   ]
  },
  {
   "cell_type": "code",
   "execution_count": null,
   "metadata": {},
   "outputs": [],
   "source": []
  },
  {
   "cell_type": "code",
   "execution_count": 81,
   "metadata": {},
   "outputs": [
    {
     "name": "stdout",
     "output_type": "stream",
     "text": [
      "\n"
     ]
    },
    {
     "data": {
      "text/plain": [
       "<matplotlib.collections.PathCollection at 0x13fa5aeb0>"
      ]
     },
     "execution_count": 81,
     "metadata": {},
     "output_type": "execute_result"
    },
    {
     "data": {
      "image/png": "[encoded data removed]",
      "text/plain": [
       "<Figure size 432x288 with 1 Axes>"
      ]
     },
     "metadata": {
      "needs_background": "light"
     },
     "output_type": "display_data"
    }
   ],
   "source": [
    "import matplotlib.pyplot as plt\n",
    "\n",
    "print()\n",
    "\n",
    "u00 = model[0][1][0]\n",
    "std00 = model[0][1][1]\n",
    "\n",
    "points = np.linspace(u00-3*std00, u00+3*std00, 100)\n",
    "gvs = []\n",
    "for p in points:\n",
    "    gvs.append(gaussian_probability(p, u00, std00))\n",
    "    \n",
    "    \n",
    "c0_a0 = np.array(data_by_label[0])[:,1]\n",
    "\n",
    "plt.plot(points, gvs)\n",
    "plt.scatter(c0_a0,[0]*len(c0_a0))"
   ]
  },
  {
   "cell_type": "code",
   "execution_count": null,
   "metadata": {},
   "outputs": [],
   "source": []
  },
  {
   "cell_type": "markdown",
   "metadata": {},
   "source": [
    "# Test"
   ]
  },
  {
   "cell_type": "code",
   "execution_count": 75,
   "metadata": {},
   "outputs": [
    {
     "data": {
      "text/plain": [
       "(50, 50)"
      ]
     },
     "execution_count": 75,
     "metadata": {},
     "output_type": "execute_result"
    }
   ],
   "source": [
    "len(X_test), len(y_test)"
   ]
  },
  {
   "cell_type": "code",
   "execution_count": 76,
   "metadata": {},
   "outputs": [
    {
     "data": {
      "text/plain": [
       "array([6.1, 2.8, 4.7, 1.2])"
      ]
     },
     "execution_count": 76,
     "metadata": {},
     "output_type": "execute_result"
    }
   ],
   "source": [
    "X_test[0]"
   ]
  },
  {
   "cell_type": "code",
   "execution_count": 79,
   "metadata": {},
   "outputs": [],
   "source": [
    "score = {}\n",
    "for label, value in model.items():\n",
    "    score[label] = 1\n",
    "    \n",
    "    for i in range(n_feature):\n",
    "        mu, std = value[i]\n",
    "        score[label] *= gaussian_probability(X_test[0][i], mu, std)\n"
   ]
  },
  {
   "cell_type": "code",
   "execution_count": 80,
   "metadata": {},
   "outputs": [
    {
     "data": {
      "text/plain": [
       "{0: 3.8193645668722987e-88, 1: 0.7705939881502295, 2: 0.0024126813990381158}"
      ]
     },
     "execution_count": 80,
     "metadata": {},
     "output_type": "execute_result"
    }
   ],
   "source": [
    "score"
   ]
  },
  {
   "cell_type": "code",
   "execution_count": null,
   "metadata": {},
   "outputs": [],
   "source": []
  }
 ],
 "metadata": {
  "kernelspec": {
   "display_name": "Python 3 (ipykernel)",
   "language": "python",
   "name": "python3"
  },
  "language_info": {
   "codemirror_mode": {
    "name": "ipython",
    "version": 3
   },
   "file_extension": ".py",
   "mimetype": "text/x-python",
   "name": "python",
   "nbconvert_exporter": "python",
   "pygments_lexer": "ipython3",
   "version": "3.9.9"
  }
 },
 "nbformat": 4,
 "nbformat_minor": 4
}
